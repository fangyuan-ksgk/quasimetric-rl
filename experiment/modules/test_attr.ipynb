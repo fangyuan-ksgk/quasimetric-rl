{
 "cells": [
  {
   "cell_type": "code",
   "execution_count": 39,
   "id": "6a37cedc-c688-430b-9f13-02d2b47223f6",
   "metadata": {},
   "outputs": [
    {
     "name": "stderr",
     "output_type": "stream",
     "text": [
      "usage: ipykernel_launcher.py [--help] [--hydra-help] [--version]\n",
      "                             [--cfg {job,hydra,all}] [--resolve]\n",
      "                             [--package PACKAGE] [--run] [--multirun]\n",
      "                             [--shell-completion] [--config-path CONFIG_PATH]\n",
      "                             [--config-name CONFIG_NAME]\n",
      "                             [--config-dir CONFIG_DIR]\n",
      "                             [--experimental-rerun EXPERIMENTAL_RERUN]\n",
      "                             [--info [{all,config,defaults,defaults-tree,plugins,searchpath}]]\n",
      "                             [overrides ...]\n",
      "ipykernel_launcher.py: error: unrecognized arguments: -f\n"
     ]
    },
    {
     "ename": "SystemExit",
     "evalue": "2",
     "output_type": "error",
     "traceback": [
      "An exception has occurred, use %tb to see the full traceback.\n",
      "\u001b[0;31mSystemExit\u001b[0m\u001b[0;31m:\u001b[0m 2\n"
     ]
    }
   ],
   "source": [
    "# Test on Hydra & OmegaConf\n",
    "import attrs\n",
    "import hydra\n",
    "import hydra.types\n",
    "import hydra.core.config_store\n",
    "from omegaconf import OmegaConf, DictConfig, SCMode\n",
    "\n",
    "\n",
    "@attrs.define(kw_only=True)\n",
    "class BaseConf(abc.ABC):\n",
    "    _a: int = 1\n",
    "    b: int = 2\n",
    "    @classmethod\n",
    "    def from_DictConfig(cls, cfg: DictConfig) -> 'BaseConf':\n",
    "        return OmegaConf.to_container(cfg, structured_config_mode=SCMode.INSTANTIATE)\n",
    "\n",
    "@attrs.define(kw_only=False)\n",
    "class Conf(BaseConf):\n",
    "    pass\n",
    "\n",
    "cs = hydra.core.config_store.ConfigStore.instance()\n",
    "cs.store(name='config', node=Conf())\n",
    "\n",
    "@hydra.main(version_base=None, config_name=\"config\")\n",
    "def test(dict_config: DictConfig):\n",
    "    cfg: Conf = Conf.from_DictConfig(dict_config)\n",
    "\n",
    "test()"
   ]
  },
  {
   "cell_type": "code",
   "execution_count": 40,
   "id": "467c9bc9-3930-4ec4-a8fc-7a1c6c4197ac",
   "metadata": {},
   "outputs": [],
   "source": []
  },
  {
   "cell_type": "code",
   "execution_count": null,
   "id": "ff51f4ad-fb1d-4c47-9b60-a26bf86e7671",
   "metadata": {},
   "outputs": [],
   "source": []
  },
  {
   "cell_type": "code",
   "execution_count": null,
   "id": "58f69550-4857-4773-a0d1-108d82484ffd",
   "metadata": {},
   "outputs": [],
   "source": []
  },
  {
   "cell_type": "code",
   "execution_count": null,
   "id": "dbeddff5-c242-4102-85d9-0cd052a62451",
   "metadata": {},
   "outputs": [],
   "source": []
  }
 ],
 "metadata": {
  "kernelspec": {
   "display_name": "pokes",
   "language": "python",
   "name": "pokey"
  },
  "language_info": {
   "codemirror_mode": {
    "name": "ipython",
    "version": 3
   },
   "file_extension": ".py",
   "mimetype": "text/x-python",
   "name": "python",
   "nbconvert_exporter": "python",
   "pygments_lexer": "ipython3",
   "version": "3.11.5"
  }
 },
 "nbformat": 4,
 "nbformat_minor": 5
}
