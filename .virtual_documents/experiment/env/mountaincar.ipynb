


import gymnasium as gym
env = gym.make('MountainCar-v0', render_mode='rgb_array')
obs, info = env.reset()
import mediapy

frames = []
c = 0
while True:
    c += 1
    # sample random action
    # action = env.action_space.sample()
    action = 1
    obs, rewards, terms, truncs, info = env.step(action)
    done = terms or truncs
    img = env.render()
    frames.append(img)
    if done:
        break
env.close()
mediapy.show_videos({'MountainCar-V0-RandomAgent':frames})


env.action_space, action,type(action)





import minigrid
import gymnasium as gym
import mediapy

name = "MiniGrid-Empty-5x5-v0"
env = gym.make(name, render_mode="rgb_array")
observation, info = env.reset(seed=42)
frames = []
for c in range(1000):
   # action = policy(observation)  # User-defined policy function
    action = env.action_space.sample()
    observation, reward, terminated, truncated, info = env.step(action)
    frames.append(env.render())
    if terminated or truncated:
        observation, info = env.reset()
env.close()

mediapy.show_videos({name: frames})


import minigrid
import gymnasium as gym
import mediapy

name = "MiniGrid-FourRooms-v0"
env = gym.make(name, render_mode="rgb_array")
observation, info = env.reset(seed=42)
frames = []
for c in range(1000):
   # action = policy(observation)  # User-defined policy function
    action = env.action_space.sample()
    observation, reward, terminated, truncated, info = env.step(action)
    frames.append(env.render())
    if terminated or truncated:
        observation, info = env.reset()
env.close()

mediapy.show_videos({name: frames})


observation


env.observation_space['image']





import minigrid
import gymnasium as gym
import mediapy

name = "MiniGrid-OneWayDoor-v0"
env = gym.make(name, render_mode="rgb_array")
observation, info = env.reset(seed=42)
frames = []
for c in range(1000):
   # action = policy(observation)  # User-defined policy function
    action = env.action_space.sample()
    observation, reward, terminated, truncated, info = env.step(action)
    frames.append(env.render())
    if terminated or truncated:
        observation, info = env.reset()
env.close()

mediapy.show_videos({name: frames})


obs, info = env.reset()
obs['image'].shape


wenv = minigrid.wrappers.ImgObsWrapper(env)
obs, info = wenv.reset()
obs.shape


genv = GoalCondEnvWrapper(wenv, episode_length=20, is_image_based=True)



from typing import *
import numpy as np

class GoalCondEnvWrapper(gym.ObservationWrapper):
    r"""
    Convert the concatenated observation space in GCRL into a better format with
    dict observations.
    """

    episode_length: int
    is_image_based: bool
    create_kwargs: Mapping[str, Any]

    def __init__(self, env: gym.Env, episode_length: int, is_image_based: bool = True):
        super().__init__(gym.wrappers.TimeLimit(env.unwrapped, episode_length))
        if is_image_based:
            # Observation space assumption : shape is (7, 7, 3)
            single_ospace = gym.spaces.Box(
                low=np.full((7, 7, 3), 0),
                high=np.full((7, 7, 3), 255),
                dtype=np.uint8,
            )
        else:
            assert isinstance(env.observation_space, gym.spaces.Box)
            ospace: gym.spaces.Box = env.observation_space
            assert len(ospace.shape) == 1
            single_ospace = gym.spaces.Box(
                low=np.split(ospace.low, 2)[0],
                high=np.split(ospace.high, 2)[0],
                dtype=ospace.dtype,
            )
        self.observation_space = gym.spaces.Dict(dict(
            observation=single_ospace,
            achieved_goal=single_ospace,
            desired_goal=single_ospace,
        ))
        self.episode_length = episode_length
        self.is_image_based = is_image_based

    def observation(self, observation):
        o, g = np.split(observation, 2)
        if self.is_image_based:
            o = o.reshape(7, 7, 3)
            g = g.reshape(7, 7, 3) # Wait, g is the goal map? what does that mean?
        odict = dict(
            observation=o,
            achieved_goal=o,
            desired_goal=g,
        )
        return odict


env.unwrapped


# One-way door construction in minigrid will be interesting -- this will actually help evaluating
# -- the quqsi-metric function's power, mountain car is meaningful since gravity is in play, too (I guess)










import gymnasium as gym
env = gym.make("MiniWorld-OneRoom-v0")
# observation, info = env.reset(seed=42)
# for _ in range(1000):
#     action = policy(observation)  # User-defined policy function
#     observation, reward, terminated, truncated, info = env.step(action)

#     if terminated or truncated:
#         observation, info = env.reset()
# env.close()


import gymnasium as gym
import mediapy as media
name = 'roundabout-v0'
env = gym.make(name, render_mode='rgb_array')
frames = []
obs, info = env.reset()
done = truncated = False
while not (done or truncated):
    action = env.action_space.sample()
    obs, reward, done, truncated, info = env.step(action)
    frames.append(env.render())
media.show_videos({name: frames}, fps=6)






