# Test on Hydra & OmegaConf
import attrs
import hydra
import hydra.types
import hydra.core.config_store
from omegaconf import OmegaConf, DictConfig, SCMode


@attrs.define(kw_only=True)
class BaseConf(abc.ABC):
    _a: int = 1
    b: int = 2
    @classmethod
    def from_DictConfig(cls, cfg: DictConfig) -> 'BaseConf':
        return OmegaConf.to_container(cfg, structured_config_mode=SCMode.INSTANTIATE)

@attrs.define(kw_only=False)
class Conf(BaseConf):
    pass

cs = hydra.core.config_store.ConfigStore.instance()
cs.store(name='config', node=Conf())

@hydra.main(version_base=None, config_name="config")
def test(dict_config: DictConfig):
    cfg: Conf = Conf.from_DictConfig(dict_config)

test()












